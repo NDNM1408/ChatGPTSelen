{
 "cells": [
  {
   "cell_type": "markdown",
   "metadata": {},
   "source": [
    "# Generate ID for QA_LAW"
   ]
  },
  {
   "cell_type": "code",
   "execution_count": 60,
   "metadata": {},
   "outputs": [],
   "source": [
    "DATA_FOLDER = \"../tvpl_data/\""
   ]
  },
  {
   "cell_type": "code",
   "execution_count": 3,
   "metadata": {},
   "outputs": [
    {
     "data": {
      "text/plain": [
       "(19612,\n",
       " {'question': 'Việc phát hành vé sử dụng đường bộ đối với phương tiện tham gia giao thông qua trạm theo lượt có mệnh giá như thế nào?',\n",
       "  'passage': 'Tại khoản 1 Điều 8 Thông tư 35/2016/TT-BGTVT được sửa đổi bởi Khoản 12 Điều 1 Thông tư 28/2021/TT-BGTVT có quy định về vé sử dụng đường bộ như sau: Quy định về vé sử dụng đường bộ 1. Vé dịch vụ sử dụng đường bộ áp dụng đối với phương tiện tham gia giao thông qua trạm, bao gồm: vé lượt, vé tháng và vé quý. a) Vé lượt được phát hành với mệnh giá theo mức thu cho một lần sử dụng dịch vụ tương ứng với từng phương tiện; b) Vé tháng được phát hành theo thời hạn 30 ngày kể từ ngày có giá trị sử dụng với mệnh giá theo mức thu tháng quy định tương ứng với từng phương tiện. Mệnh giá vé tháng bằng 30 (ba mươi) lần mệnh giá vé lượt. Vé tháng dùng để thu tiền dịch vụ sử dụng đường bộ đối với phương tiện tham gia giao thông qua trạm trong thời hạn cụ thể ghi trên vé kể từ ngày có giá trị sử dụng vé đến ngày kết thúc theo thời hạn cụ thể ghi trên vé; c) Vé quý được phát hành theo thời hạn 90 ngày kể từ ngày có giá trị sử dụng với mệnh giá theo mức thu quý quy định tương ứng với từng phương tiện. Mệnh giá vé quý bằng 3 (ba) lần mệnh giá vé tháng và chiết khấu 10%. Vé quý dùng để thu tiền dịch vụ sử dụng đường bộ đối với phương tiện tham gia giao thông qua trạm trong thời hạn cụ thể ghi trên vé kể từ ngày có giá trị sử dụng vé quý đến ngày kết thúc theo thời hạn cụ thể ghi trên vé. 2. Đối với hình thức thu phí điện tử không dừng, vé dịch vụ sử dụng đường bộ được phát hành dưới dạng chứng từ điện tử. ... ',\n",
       "  'answer': 'việc phát hành vé sử dụng đường bộ đối với phương tiện tham gia giao thông qua trạm theo lượt sẽ có mệnh giá theo mức thu cho một lần sử dụng dịch vụ tương ứng với từng phương tiện'})"
      ]
     },
     "execution_count": 3,
     "metadata": {},
     "output_type": "execute_result"
    }
   ],
   "source": [
    "import os\n",
    "import json\n",
    "\n",
    "# Read normal jsonl data\n",
    "with open(os.path.join(DATA_FOLDER, \"Fix_QA_Law.jsonl\")) as json_file:\n",
    "    qa_data = json.load(json_file)\n",
    "\n",
    "len(qa_data), qa_data[0]"
   ]
  },
  {
   "cell_type": "code",
   "execution_count": 9,
   "metadata": {},
   "outputs": [],
   "source": [
    "# Add id to the data \n",
    "for  idx, qa  in enumerate(qa_data):\n",
    "    qa[\"id\"] = idx\n",
    "\n",
    "with open(os.path.join(DATA_FOLDER, \"QA_Law_ID.json\"), \"w\") as json_file:\n",
    "    json.dump(qa_data, json_file)"
   ]
  },
  {
   "cell_type": "code",
   "execution_count": 10,
   "metadata": {},
   "outputs": [
    {
     "data": {
      "text/plain": [
       "(19612,\n",
       " {'question': 'Việc phát hành vé sử dụng đường bộ đối với phương tiện tham gia giao thông qua trạm theo lượt có mệnh giá như thế nào?',\n",
       "  'passage': 'Tại khoản 1 Điều 8 Thông tư 35/2016/TT-BGTVT được sửa đổi bởi Khoản 12 Điều 1 Thông tư 28/2021/TT-BGTVT có quy định về vé sử dụng đường bộ như sau: Quy định về vé sử dụng đường bộ 1. Vé dịch vụ sử dụng đường bộ áp dụng đối với phương tiện tham gia giao thông qua trạm, bao gồm: vé lượt, vé tháng và vé quý. a) Vé lượt được phát hành với mệnh giá theo mức thu cho một lần sử dụng dịch vụ tương ứng với từng phương tiện; b) Vé tháng được phát hành theo thời hạn 30 ngày kể từ ngày có giá trị sử dụng với mệnh giá theo mức thu tháng quy định tương ứng với từng phương tiện. Mệnh giá vé tháng bằng 30 (ba mươi) lần mệnh giá vé lượt. Vé tháng dùng để thu tiền dịch vụ sử dụng đường bộ đối với phương tiện tham gia giao thông qua trạm trong thời hạn cụ thể ghi trên vé kể từ ngày có giá trị sử dụng vé đến ngày kết thúc theo thời hạn cụ thể ghi trên vé; c) Vé quý được phát hành theo thời hạn 90 ngày kể từ ngày có giá trị sử dụng với mệnh giá theo mức thu quý quy định tương ứng với từng phương tiện. Mệnh giá vé quý bằng 3 (ba) lần mệnh giá vé tháng và chiết khấu 10%. Vé quý dùng để thu tiền dịch vụ sử dụng đường bộ đối với phương tiện tham gia giao thông qua trạm trong thời hạn cụ thể ghi trên vé kể từ ngày có giá trị sử dụng vé quý đến ngày kết thúc theo thời hạn cụ thể ghi trên vé. 2. Đối với hình thức thu phí điện tử không dừng, vé dịch vụ sử dụng đường bộ được phát hành dưới dạng chứng từ điện tử. ... ',\n",
       "  'answer': 'việc phát hành vé sử dụng đường bộ đối với phương tiện tham gia giao thông qua trạm theo lượt sẽ có mệnh giá theo mức thu cho một lần sử dụng dịch vụ tương ứng với từng phương tiện',\n",
       "  'id': 0})"
      ]
     },
     "execution_count": 10,
     "metadata": {},
     "output_type": "execute_result"
    }
   ],
   "source": [
    "# Read normal jsonl data\n",
    "with open(os.path.join(DATA_FOLDER, \"QA_Law_ID.json\")) as json_file:\n",
    "    qa_data = json.load(json_file)\n",
    "\n",
    "len(qa_data), qa_data[0]"
   ]
  },
  {
   "cell_type": "code",
   "execution_count": null,
   "metadata": {},
   "outputs": [],
   "source": [
    "# Read normal jsonl data\n",
    "with open(os.path.join(DATA_FOLDER, \"QA_Law_Generated.json\")) as json_file:\n",
    "    qa_data = json.load(json_file)\n",
    "\n",
    "len(qa_data), qa_data['0']"
   ]
  },
  {
   "cell_type": "markdown",
   "metadata": {},
   "source": [
    "# Check and create of not completed or unsuitable generated answer ids"
   ]
  },
  {
   "cell_type": "code",
   "execution_count": 1,
   "metadata": {},
   "outputs": [],
   "source": [
    "DATA_FOLDER = \"../tvpl_data/\""
   ]
  },
  {
   "cell_type": "code",
   "execution_count": 2,
   "metadata": {},
   "outputs": [
    {
     "data": {
      "text/plain": [
       "(19612,\n",
       " 19612,\n",
       " 'Theo quy định trong Khoản 1 Điều 8 Thông tư 35/2016/TT-BGTVT được sửa đổi bởi Khoản 12 Điều 1 Thông tư 28/2021/TT-BGTVT, vé sử dụng đường bộ đối với phương tiện tham gia giao thông qua trạm theo lượt có mệnh giá được áp dụng như sau:\\na) Vé lượt được phát hành với mệnh giá theo mức thu cho một lần sử dụng dịch vụ tương ứng với từng phương tiện.\\nĐiều này có nghĩa là mỗi lần một phương tiện tham gia giao thông qua trạm, nó sẽ phải mua vé lượt với giá mà trạm đó đang áp dụng cho loại phương tiện đó tại thời điểm đó. Giá vé lượt có thể thay đổi tùy thuộc vào từng trạm và từng loại phương tiện.\\nLưu ý rằng thông tin cụ thể về mệnh giá vé lượt cụ thể cho các loại phương tiện và tại các trạm cụ thể sẽ phải được tra cứu từ nguồn thông tin hiện hành, và nó có thể thay đổi theo thời gian và vị trí cụ thể.')"
      ]
     },
     "execution_count": 2,
     "metadata": {},
     "output_type": "execute_result"
    }
   ],
   "source": [
    "import os\n",
    "import json\n",
    "\n",
    "# Read normal jsonl data\n",
    "with open(os.path.join(DATA_FOLDER, \"QA_Law_Generated.json\")) as json_file:\n",
    "    qa_data = json.load(json_file)\n",
    "\n",
    "with open(os.path.join(DATA_FOLDER, \"QA_Law_ID.json\")) as json_file:\n",
    "    qa_data_full = json.load(json_file)\n",
    "\n",
    "\n",
    "\n",
    "len(qa_data_full), len(qa_data), qa_data['0']"
   ]
  },
  {
   "cell_type": "code",
   "execution_count": 14,
   "metadata": {},
   "outputs": [
    {
     "data": {
      "text/plain": [
       "(59, 0.003008362227207832)"
      ]
     },
     "execution_count": 14,
     "metadata": {},
     "output_type": "execute_result"
    }
   ],
   "source": [
    "# Create new list of unsuitable answers\n",
    "unsuitable_answer_ids = []\n",
    "for idx, answer in qa_data.items():\n",
    "    if not answer.strip().endswith(\".\")  and not answer.strip().endswith('.\"') and not answer.strip().endswith(\".'\") and not answer.strip().endswith(\"?\"):\n",
    "        unsuitable_answer_ids.append(idx)\n",
    "        # unsuitable_answer_ids.extend([str(int(idx)-1), str(int(idx)+1)]) # Their neighbor as well for the first time \n",
    "\n",
    "len(unsuitable_answer_ids), len(unsuitable_answer_ids)/len(qa_data)"
   ]
  },
  {
   "cell_type": "code",
   "execution_count": 15,
   "metadata": {},
   "outputs": [
    {
     "name": "stderr",
     "output_type": "stream",
     "text": [
      "100%|██████████| 19612/19612 [00:36<00:00, 531.45it/s]\n"
     ]
    }
   ],
   "source": [
    "from langdetect import detect\n",
    "from tqdm import tqdm\n",
    "for idx, answer in tqdm(qa_data.items()):\n",
    "    lang = detect(answer)\n",
    "    if lang != \"vi\":\n",
    "        unsuitable_answer_ids.append(idx)\n",
    "        print(lang)"
   ]
  },
  {
   "cell_type": "code",
   "execution_count": 17,
   "metadata": {},
   "outputs": [
    {
     "data": {
      "text/plain": [
       "['306',\n",
       " '404',\n",
       " '521',\n",
       " '570',\n",
       " '659',\n",
       " '866',\n",
       " '1216',\n",
       " '1367',\n",
       " '1878',\n",
       " '1975',\n",
       " '2010',\n",
       " '2070',\n",
       " '2298',\n",
       " '2475',\n",
       " '3422',\n",
       " '4540',\n",
       " '5141',\n",
       " '5590',\n",
       " '5636',\n",
       " '5638',\n",
       " '5773',\n",
       " '6345',\n",
       " '6494',\n",
       " '6505',\n",
       " '6865',\n",
       " '7528',\n",
       " '7724',\n",
       " '7870',\n",
       " '7884',\n",
       " '8002',\n",
       " '8656',\n",
       " '9036',\n",
       " '9273',\n",
       " '9786',\n",
       " '9968',\n",
       " '10341',\n",
       " '10980',\n",
       " '11987',\n",
       " '12005',\n",
       " '12189',\n",
       " '13290',\n",
       " '13407',\n",
       " '13965',\n",
       " '13989',\n",
       " '14149',\n",
       " '14150',\n",
       " '15608',\n",
       " '15664',\n",
       " '15691',\n",
       " '15707',\n",
       " '15939',\n",
       " '16042',\n",
       " '16202',\n",
       " '17717',\n",
       " '17735',\n",
       " '18924',\n",
       " '19110',\n",
       " '19530',\n",
       " '19537']"
      ]
     },
     "execution_count": 17,
     "metadata": {},
     "output_type": "execute_result"
    }
   ],
   "source": [
    "unsuitable_answer_ids"
   ]
  },
  {
   "cell_type": "code",
   "execution_count": 53,
   "metadata": {},
   "outputs": [],
   "source": [
    "# unsuitable_answer_ids.append(\"7943\")"
   ]
  },
  {
   "cell_type": "code",
   "execution_count": 18,
   "metadata": {},
   "outputs": [
    {
     "data": {
      "text/plain": [
       "(59,\n",
       " 0.003008362227207832,\n",
       " ['15707',\n",
       "  '18924',\n",
       "  '7870',\n",
       "  '19110',\n",
       "  '6494',\n",
       "  '6345',\n",
       "  '7528',\n",
       "  '404',\n",
       "  '12005',\n",
       "  '1878',\n",
       "  '2298',\n",
       "  '13989',\n",
       "  '15608',\n",
       "  '19530',\n",
       "  '19537',\n",
       "  '7884',\n",
       "  '3422',\n",
       "  '8002',\n",
       "  '13290',\n",
       "  '866',\n",
       "  '1216',\n",
       "  '17717',\n",
       "  '6505',\n",
       "  '15691',\n",
       "  '10980',\n",
       "  '15664',\n",
       "  '14149',\n",
       "  '5636',\n",
       "  '14150',\n",
       "  '11987',\n",
       "  '521',\n",
       "  '4540',\n",
       "  '5590',\n",
       "  '16042',\n",
       "  '17735',\n",
       "  '13407',\n",
       "  '659',\n",
       "  '13965',\n",
       "  '9968',\n",
       "  '1367',\n",
       "  '16202',\n",
       "  '7724',\n",
       "  '10341',\n",
       "  '5773',\n",
       "  '1975',\n",
       "  '9786',\n",
       "  '15939',\n",
       "  '2070',\n",
       "  '306',\n",
       "  '570',\n",
       "  '5141',\n",
       "  '2010',\n",
       "  '5638',\n",
       "  '6865',\n",
       "  '9036',\n",
       "  '9273',\n",
       "  '12189',\n",
       "  '8656',\n",
       "  '2475'])"
      ]
     },
     "execution_count": 18,
     "metadata": {},
     "output_type": "execute_result"
    }
   ],
   "source": [
    "unsuitable_answer_ids = list(set(unsuitable_answer_ids))\n",
    "len(unsuitable_answer_ids), len(unsuitable_answer_ids)/len(qa_data), unsuitable_answer_ids"
   ]
  },
  {
   "cell_type": "code",
   "execution_count": 19,
   "metadata": {},
   "outputs": [
    {
     "data": {
      "text/plain": [
       "(59,\n",
       " [{'question': 'Khi nào quyết định thi hành kỷ luật giải tán tổ chức Đảng được thông qua?',\n",
       "   'passage': 'Tại khoản 3 Điều 15 Quy định 22-QĐ/TW năm 2021 quy định về trình tự, thủ tục, cách thức bỏ phiếu thi hành kỷ luật như sau: Trình tự, thủ tục, cách thức bỏ phiếu thi hành kỷ luật .... 3. Cách tính số phiếu biểu quyết 3.1. Kết quả biểu quyết quyết định các hình thức kỷ luật cụ thể mà không có hình thức kỷ luật nào đủ số phiếu theo quy định, thì cộng dồn số phiếu từ hình thức kỷ luật cao nhất xuống đến hình thức kỷ luật liền kề thấp hơn, đến hình thức nào mà kết quả có đủ số phiếu theo quy định thì quyết định kỷ luật bằng hình thức đó. 3.2. Quyết định kỷ luật hoặc đề nghị kỷ luật khiển trách, cảnh cáo, cách chức đối với đảng viên; khiển trách, cảnh cáo đối với tổ chức đảng phải được biểu quyết với sự đồng ý của trên một nửa số đảng viên chính thức hoặc thành viên của tổ chức đảng đó. 3.3. Trường hợp khai trừ đảng viên phải được ít nhất hai phần ba số đảng viên chính thức hoặc thành viên của tổ chức đảng đó nhất trí đề nghị và được sự nhất trí của trên một nửa số thành viên tổ chức đảng cấp trên có thẩm quyền quyết định. 3.4. Trường hợp giải tán tổ chức đảng phải được ít nhất hai phần ba số thành viên cấp ủy cấp trên trực tiếp đề nghị, cấp ủy cấp trên cách một cấp quyết định với sự đồng ý của trên một nửa số thành viên. 3.5. Một nửa hay hai phần ba quy định ở trên được tính trên tổng số đảng viên chính thức hoặc thành viên có quyền biểu quyết của tổ chức đảng, không tính trên số thành viên có mặt trong cuộc họp: - Ở chi bộ là tổng số đảng viên chính thức (trừ số đảng viên bị đình chỉ sinh hoạt đảng, đảng viên đã được giới thiệu sinh hoạt tạm thời ở đảng bộ khác và đảng viên đã được miễn công tác, sinh hoạt đảng không có mặt tại cuộc họp); nếu đảng viên được giới thiệu sinh hoạt tạm thời, đảng viên đã được miễn công tác, sinh hoạt đảng đó có mặt ở cuộc họp, tham gia biểu quyết thì vẫn tính. - Ở cấp ủy, ban thường vụ cấp ủy hoặc ủy ban kiểm tra là tổng số cấp ủy viên, ủy viên ban thường vụ hoặc tổng số thành viên ủy ban kiểm tra đương nhiệm (trừ số thành viên đã chuyển sinh hoạt đảng tạm thời không có mặt tại hội nghị, cấp ủy viên bị đình chỉ sinh hoạt). ',\n",
       "   'answer': 'quyết định thi hành kỷ luật giải tán tổ chức Đảng được thông qua khi được ít nhất hai phần ba số thành viên cấp ủy cấp trên trực tiếp đề nghị, cấp ủy cấp trên cách một cấp quyết định với sự đồng ý của trên một nửa số thành viên',\n",
       "   'id': 15707},\n",
       "  {'question': 'Con riêng của ba có được hưởng di sản khi người ba chết nhưng không để lại di chúc?',\n",
       "   'passage': 'Tại Khoản 2 Điều 66 Luật Hôn nhân và gia đình 2014 có quy định như sau: Điều 66. Giải quyết tài sản của vợ chồng trong trường hợp một bên chết hoặc bị Tòa án tuyên bố là đã chết 2. Khi có yêu cầu về chia di sản thì tài sản chung của vợ chồng được chia đôi, trừ trường hợp vợ chồng có thỏa thuận về chế độ tài sản. Phần tài sản của vợ, chồng chết hoặc bị Tòa án tuyên bố là đã chết được chia theo quy định của pháp luật về thừa kế.Tại Điểm a Khoản 1, Khoản 2 Điều 651 Bộ luật Dân sự 2015 có quy định như sau: Điều 651. Người thừa kế theo pháp luật 1. Những người thừa kế theo pháp luật được quy định theo thứ tự sau đây: a) Hàng thừa kế thứ nhất gồm: vợ, chồng, cha đẻ, mẹ đẻ, cha nuôi, mẹ nuôi, con đẻ, con nuôi của người chết; ',\n",
       "   'answer': '2. Những người thừa kế cùng hàng được hưởng phần di sản bằng nhau., trong trường hợp người ba mất mà không để lại di chúc  phần di sản của người ba vẫn sẽ được chia\\xa002 người con riêng của ba.\\xa0Mức hưởng di sản của hai người con riêng sẽ ngang bằng với các đối tượng khác',\n",
       "   'id': 18924},\n",
       "  {'question': 'Để trở thành dân số viên hạng IV cần đáp ứng những tiêu chuẩn nào?',\n",
       "   'passage': 'Căn cứ khoản 2 Điều 6 Thông tư liên tịch 08/2016/TTLT-BYT-BNV được sửa đổi bởi bởi khoản 2 Điều 9 Thông tư 03/2022/TT-BYT về dân số viên hạng IV có quy định như sau: Dân số viên hạng IV - Mã số: V.08.10.29 ... 2. Tiêu chuẩn về trình độ đào tạo, bồi dưỡng a) Có bằng tốt nghiệp trung cấp chuyên ngành dân số - y tế trở lên. Trường hợp có bằng tốt nghiệp trung cấp trở lên ở các chuyên ngành khác thì phải có chứng chỉ đào tạo đạt chuẩn viên chức dân số hoặc tương đương; 3. Tiêu chuẩn về năng lực chuyên môn, nghiệp vụ a) Hiểu đúng các chính sách của Đảng, Nhà nước về dân số - kế hoạch hóa gia đình; b) Có năng lực vận dụng kiến thức, kỹ năng cơ bản đáp ứng yêu cầu thực tế trong lĩnh vực dân số - kế hoạch hóa gia đình; c) Có năng lực chủ động thực hiện các công việc và nhiệm vụ chuyên môn được giao; d) Có năng lực thu thập số liệu, lập sổ sách và cập nhật báo cáo về dân số - kế hoạch hóa gia đình; đ) Có năng lực phối hợp để thực hiện công tác dân số - kế hoạch hóa gia đình; e) Có năng lực trình bày đúng về chuyên môn nghiệp vụ dân số - kế hoạch hóa gia đình. ',\n",
       "   'answer': 'để trở thành dân số viên hạng IV cần đáp ứng những tiêu chuẩn sau: - Tiêu chuẩn về trình độ đào tạo, bồi dưỡng: có bằng tốt nghiệp trung cấp chuyên ngành dân số - y tế trở lên. Trường hợp có bằng tốt nghiệp trung cấp trở lên ở các chuyên ngành khác  phải có chứng chỉ đào tạo đạt chuẩn viên chức dân số hoặc tương đương; - Tiêu chuẩn về năng lực chuyên môn, nghiệp vụ: + Hiểu đúng các chính sách của Đảng, Nhà nước về dân số - kế hoạch hóa gia đình; + Có năng lực vận dụng kiến thức, kỹ năng cơ bản đáp ứng yêu cầu thực tế trong lĩnh vực dân số - kế hoạch hóa gia đình; + Có năng lực chủ động thực hiện các công việc và nhiệm vụ chuyên môn được giao; + Có năng lực thu thập số liệu, lập sổ sách và cập nhật báo cáo về dân số - kế hoạch hóa gia đình; + Có năng lực phối hợp để thực hiện công tác dân số - kế hoạch hóa gia đình; + Có năng lực trình bày đúng về chuyên môn nghiệp vụ dân số - kế hoạch hóa gia đình',\n",
       "   'id': 7870}])"
      ]
     },
     "execution_count": 19,
     "metadata": {},
     "output_type": "execute_result"
    }
   ],
   "source": [
    "broken_QA_Law_Generated = []\n",
    "for idx in unsuitable_answer_ids:\n",
    "    broken_QA_Law_Generated.append(qa_data_full[int(idx)])\n",
    "     \n",
    "len(broken_QA_Law_Generated), broken_QA_Law_Generated[:3] "
   ]
  },
  {
   "cell_type": "code",
   "execution_count": 20,
   "metadata": {},
   "outputs": [],
   "source": [
    "import json \n",
    "with open(os.path.join(\"..\", \"Broken_QA_Law_Generated.json\"), \"w\") as fOut:\n",
    "    json.dump(broken_QA_Law_Generated, fOut)"
   ]
  },
  {
   "cell_type": "markdown",
   "metadata": {},
   "source": [
    "# Check and create of not completed or unsuitable generated answer ids"
   ]
  },
  {
   "cell_type": "code",
   "execution_count": 1,
   "metadata": {},
   "outputs": [],
   "source": [
    "import json \n",
    "import os \n",
    "\n",
    "DATA_FOLDER = \"../tvpl_data/\"\n",
    "\n",
    "with open(os.path.join(\"..\", \"Broken_QA_Law_Generated.json\")) as fIn:\n",
    "    broken_QA_Law_Generated = json.load(fIn)\n",
    "\n",
    "with open(os.path.join(\"..\", \"Broken_Law_Generated.json\")) as fIn:\n",
    "    broken_Law_Generated = json.load(fIn)\n",
    "\n",
    "with open(os.path.join(DATA_FOLDER, \"QA_Law_Generated.json\")) as fIn:\n",
    "    qa_data = json.load(fIn)"
   ]
  },
  {
   "cell_type": "code",
   "execution_count": 2,
   "metadata": {},
   "outputs": [
    {
     "data": {
      "text/plain": [
       "(59, 59)"
      ]
     },
     "execution_count": 2,
     "metadata": {},
     "output_type": "execute_result"
    }
   ],
   "source": [
    "len(broken_Law_Generated), len(broken_QA_Law_Generated)"
   ]
  },
  {
   "cell_type": "code",
   "execution_count": 3,
   "metadata": {},
   "outputs": [
    {
     "data": {
      "text/plain": [
       "{'question': 'Khi nào quyết định thi hành kỷ luật giải tán tổ chức Đảng được thông qua?',\n",
       " 'passage': 'Tại khoản 3 Điều 15 Quy định 22-QĐ/TW năm 2021 quy định về trình tự, thủ tục, cách thức bỏ phiếu thi hành kỷ luật như sau: Trình tự, thủ tục, cách thức bỏ phiếu thi hành kỷ luật .... 3. Cách tính số phiếu biểu quyết 3.1. Kết quả biểu quyết quyết định các hình thức kỷ luật cụ thể mà không có hình thức kỷ luật nào đủ số phiếu theo quy định, thì cộng dồn số phiếu từ hình thức kỷ luật cao nhất xuống đến hình thức kỷ luật liền kề thấp hơn, đến hình thức nào mà kết quả có đủ số phiếu theo quy định thì quyết định kỷ luật bằng hình thức đó. 3.2. Quyết định kỷ luật hoặc đề nghị kỷ luật khiển trách, cảnh cáo, cách chức đối với đảng viên; khiển trách, cảnh cáo đối với tổ chức đảng phải được biểu quyết với sự đồng ý của trên một nửa số đảng viên chính thức hoặc thành viên của tổ chức đảng đó. 3.3. Trường hợp khai trừ đảng viên phải được ít nhất hai phần ba số đảng viên chính thức hoặc thành viên của tổ chức đảng đó nhất trí đề nghị và được sự nhất trí của trên một nửa số thành viên tổ chức đảng cấp trên có thẩm quyền quyết định. 3.4. Trường hợp giải tán tổ chức đảng phải được ít nhất hai phần ba số thành viên cấp ủy cấp trên trực tiếp đề nghị, cấp ủy cấp trên cách một cấp quyết định với sự đồng ý của trên một nửa số thành viên. 3.5. Một nửa hay hai phần ba quy định ở trên được tính trên tổng số đảng viên chính thức hoặc thành viên có quyền biểu quyết của tổ chức đảng, không tính trên số thành viên có mặt trong cuộc họp: - Ở chi bộ là tổng số đảng viên chính thức (trừ số đảng viên bị đình chỉ sinh hoạt đảng, đảng viên đã được giới thiệu sinh hoạt tạm thời ở đảng bộ khác và đảng viên đã được miễn công tác, sinh hoạt đảng không có mặt tại cuộc họp); nếu đảng viên được giới thiệu sinh hoạt tạm thời, đảng viên đã được miễn công tác, sinh hoạt đảng đó có mặt ở cuộc họp, tham gia biểu quyết thì vẫn tính. - Ở cấp ủy, ban thường vụ cấp ủy hoặc ủy ban kiểm tra là tổng số cấp ủy viên, ủy viên ban thường vụ hoặc tổng số thành viên ủy ban kiểm tra đương nhiệm (trừ số thành viên đã chuyển sinh hoạt đảng tạm thời không có mặt tại hội nghị, cấp ủy viên bị đình chỉ sinh hoạt). ',\n",
       " 'answer': 'quyết định thi hành kỷ luật giải tán tổ chức Đảng được thông qua khi được ít nhất hai phần ba số thành viên cấp ủy cấp trên trực tiếp đề nghị, cấp ủy cấp trên cách một cấp quyết định với sự đồng ý của trên một nửa số thành viên',\n",
       " 'id': 15707}"
      ]
     },
     "execution_count": 3,
     "metadata": {},
     "output_type": "execute_result"
    }
   ],
   "source": [
    "broken_QA_Law_Generated[0]"
   ]
  },
  {
   "cell_type": "code",
   "execution_count": 4,
   "metadata": {},
   "outputs": [
    {
     "data": {
      "text/plain": [
       "(9, 0.15254237288135594)"
      ]
     },
     "execution_count": 4,
     "metadata": {},
     "output_type": "execute_result"
    }
   ],
   "source": [
    "# Check one more time\n",
    "unsuitable_answer_ids = []\n",
    "for idx, answer in broken_Law_Generated.items():\n",
    "    if not answer.strip().endswith(\".\") and not answer.strip().endswith('.\"') and not answer.strip().endswith(\".'\") :\n",
    "        unsuitable_answer_ids.append(idx)\n",
    "\n",
    "len(unsuitable_answer_ids), len(unsuitable_answer_ids)/len(broken_Law_Generated)"
   ]
  },
  {
   "cell_type": "code",
   "execution_count": 5,
   "metadata": {},
   "outputs": [
    {
     "name": "stderr",
     "output_type": "stream",
     "text": [
      "100%|██████████| 59/59 [00:00<00:00, 153.51it/s]\n"
     ]
    }
   ],
   "source": [
    "from langdetect import detect\n",
    "from tqdm import tqdm\n",
    "for idx, answer in tqdm(broken_Law_Generated.items()):\n",
    "    lang = detect(answer)\n",
    "    if lang != \"vi\":\n",
    "        unsuitable_answer_ids.append(idx)\n",
    "        print(lang)"
   ]
  },
  {
   "cell_type": "code",
   "execution_count": 6,
   "metadata": {},
   "outputs": [
    {
     "data": {
      "text/plain": [
       "(9,\n",
       " 0.15254237288135594,\n",
       " ['15939', '8656', '15608', '16042', '521', '404', '9036', '570', '17735'])"
      ]
     },
     "execution_count": 6,
     "metadata": {},
     "output_type": "execute_result"
    }
   ],
   "source": [
    "unsuitable_answer_ids = list(set(unsuitable_answer_ids))\n",
    "len(unsuitable_answer_ids), len(unsuitable_answer_ids)/len(broken_Law_Generated), unsuitable_answer_ids"
   ]
  },
  {
   "cell_type": "code",
   "execution_count": 15,
   "metadata": {},
   "outputs": [
    {
     "data": {
      "text/plain": [
       "'Học lực được xếp thành 5 loại, bao gồm:\\nGiỏi (G)\\nKhá (K)\\nTrung bình (Tb)\\nYếu (Y)\\nKém (Kém)'"
      ]
     },
     "execution_count": 15,
     "metadata": {},
     "output_type": "execute_result"
    }
   ],
   "source": [
    "broken_Law_Generated['17735']"
   ]
  },
  {
   "cell_type": "code",
   "execution_count": 16,
   "metadata": {},
   "outputs": [],
   "source": [
    "## Merging\n",
    "for idx, answer in broken_Law_Generated.items():\n",
    "    qa_data[idx] = answer"
   ]
  },
  {
   "cell_type": "code",
   "execution_count": 17,
   "metadata": {},
   "outputs": [],
   "source": [
    "with open(os.path.join(DATA_FOLDER, \"QA_Law_Generated.json\"), \"w\") as fOut:\n",
    "    json.dump(qa_data, fOut)"
   ]
  },
  {
   "cell_type": "code",
   "execution_count": null,
   "metadata": {},
   "outputs": [],
   "source": []
  }
 ],
 "metadata": {
  "kernelspec": {
   "display_name": "base",
   "language": "python",
   "name": "python3"
  },
  "language_info": {
   "codemirror_mode": {
    "name": "ipython",
    "version": 3
   },
   "file_extension": ".py",
   "mimetype": "text/x-python",
   "name": "python",
   "nbconvert_exporter": "python",
   "pygments_lexer": "ipython3",
   "version": "3.11.5"
  },
  "orig_nbformat": 4
 },
 "nbformat": 4,
 "nbformat_minor": 2
}
