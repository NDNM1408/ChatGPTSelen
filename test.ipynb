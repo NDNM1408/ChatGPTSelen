{
 "cells": [
  {
   "cell_type": "code",
   "execution_count": 2,
   "metadata": {},
   "outputs": [],
   "source": [
    "import logging\n",
    "import os\n",
    "import json\n",
    "import argparse\n",
    "import time\n",
    "DATA_FOLDER = \"data\"\n",
    "logging.basicConfig(format='%(asctime)s - %(message)s',\n",
    "                    datefmt='%Y-%m-%d %H:%M:%S',\n",
    "                    level=logging.INFO)\n",
    "\n",
    "data_path = os.path.join(DATA_FOLDER, \"sample.json\")\n",
    "save_rate = 10\n",
    "break_time = 1000\n",
    "mail = \"nguyendichnhatminh@gmail.com\"\n",
    "password = \"nguyendichnhatminh\"\n",
    "folder_path = \"nguyendichnhatminh\"\n"
   ]
  },
  {
   "cell_type": "code",
   "execution_count": 3,
   "metadata": {},
   "outputs": [
    {
     "data": {
      "text/plain": [
       "[{'question': 'Việc trích lập dự phòng nghiệp vụ của doanh nghiệp kinh doanh bảo hiểm phải bảo đảm những yêu cầu nào?',\n",
       "  'passage': 'Khoản 2 Điều 97 Luật Kinh doanh bảo hiểm 2022 quy định về các yêu cầu với việc trích lập dự phòng nghiệp vụ như sau: Dự phòng nghiệp vụ 1. Dự phòng nghiệp vụ là khoản tiền mà doanh nghiệp bảo hiểm, doanh nghiệp tái bảo hiểm, chi nhánh nước ngoài tại Việt Nam phải trích lập nhằm mục đích thanh toán cho những trách nhiệm bảo hiểm có thể phát sinh từ các hợp đồng bảo hiểm đã giao kết. 2. Việc trích lập dự phòng nghiệp vụ phải bảo đảm các yêu cầu sau đây: a) Trích lập riêng cho từng nghiệp vụ bảo hiểm; b) Tương ứng với phần trách nhiệm đã cam kết theo thỏa thuận trong hợp đồng bảo hiểm; c) Tách biệt giữa các hợp đồng bảo hiểm của đối tượng bảo hiểm trong và ngoài phạm vi lãnh thổ Việt Nam, kể cả trong cùng một nghiệp vụ bảo hiểm, sản phẩm bảo hiểm, trừ trường hợp pháp luật có quy định khác; d) Luôn có tài sản tương ứng với dự phòng nghiệp vụ đã trích lập, đồng thời tách biệt tài sản tương ứng với dự phòng quy định tại điểm c khoản này; đ) Sử dụng Chuyên gia tính toán để tính toán, trích lập dự phòng nghiệp vụ; e) Thường xuyên rà soát, đánh giá việc trích lập dự phòng nghiệp vụ; kịp thời có các biện pháp nhằm bảo đảm trích lập đầy đủ dự phòng để chi trả cho các trách nhiệm của doanh nghiệp bảo hiểm, doanh nghiệp tái bảo hiểm, chi nhánh nước ngoài tại Việt Nam. ... ',\n",
       "  'answer': 'việc trích lập dự phòng nghiệp vụ của doanh nghiệp kinh doanh bảo hiểm phải đảm bảo các yêu cầu sau: - Trích lập riêng cho từng nghiệp vụ bảo hiểm; - Tương ứng với phần trách nhiệm đã cam kết theo thỏa thuận trong hợp đồng bảo hiểm; - Tách biệt giữa các hợp đồng bảo hiểm của đối tượng bảo hiểm trong và ngoài phạm vi lãnh thổ Việt Nam, kể cả trong cùng một nghiệp vụ bảo hiểm, sản phẩm bảo hiểm, trừ trường hợp pháp luật có quy định khác; - Luôn có tài sản tương ứng với dự phòng nghiệp vụ đã trích lập, đồng thời tách biệt tài sản tương ứng với dự phòng quy định tại điểm c khoản này; - Sử dụng Chuyên gia tính toán để tính toán, trích lập dự phòng nghiệp vụ; - Thường xuyên rà soát, đánh giá việc trích lập dự phòng nghiệp vụ; - Kịp thời có các biện pháp nhằm bảo đảm trích lập đầy đủ dự phòng để chi trả cho các trách nhiệm của doanh nghiệp bảo hiểm, doanh nghiệp tái bảo hiểm, chi nhánh nước ngoài tại Việt Nam',\n",
       "  'oke': 'True'},\n",
       " {'question': 'Cán bộ y tế tham gia biên soạn giáo trình chuyên môn được tính thời gian đào tạo liên tục bao nhiêu?',\n",
       "  'passage': 'Theo Điều 6 Thông tư 22/2013/TT-BYT sửa đổi bởi Điều 1 Thông tư 26/2020/TT-BYT quy định các hình thức đào tạo liên tục và nguyên tắc quy đổi như sau: Các hình thức đào tạo liên tục và nguyên tắc quy đổi 1. Tập huấn, đào tạo, chuyển giao kỹ thuật, bồi dưỡng chuyên môn nghiệp vụ ngắn hạn trong và ngoài nước theo hình thức tập trung hoặc trực tuyến (E-learning) được cấp chứng chỉ, chứng nhận, xác nhận: thời gian tham gia đào tạo liên tục được tính theo thực tế chương trình đào tạo. 2. Hội thảo, hội nghị, tọa đàm khoa học trong và ngoài nước về lĩnh vực chuyên môn y tế có xác nhận của đơn vị chủ trì tổ chức căn cứ vào chương trình của hội thảo, hội nghị, tọa đàm: thời gian tham gia đào tạo được tính cho người chủ trì hoặc có bài trình bày tối đa 8 tiết học và người tham dự tối đa 4 tiết học cho mỗi hội thảo/hội nghị/tọa đàm. 3. Thực hiện nghiên cứu khoa học; hướng dẫn luận án, luận văn; viết bài báo khoa học đã được công bố theo quy định: được tính tối đa 12 tiết học cho người hướng dẫn luận án, chủ trì/thư ký đề tài cấp Nhà nước hoặc cấp Bộ; 8 tiết học cho hướng dẫn luận văn hoặc chủ trì/thư ký đề tài cấp cơ sở (tính tại thời điểm luận văn được bảo vệ thành công hoặc đề tài được nghiệm thu đạt). 4. Biên soạn giáo trình chuyên môn được tính tối đa không quá 8 tiết đối với 1 tài liệu do người đứng đầu đơn vị xem xét (tính vào thời điểm xuất bản); cán bộ y tế không phải là giảng viên của cơ sở giáo dục tham gia giảng dạy liên quan đến chuyên môn nghiệp vụ được tính theo thời gian thực tế. 5. Hình thức đào tạo liên tục quy định tại Khoản 1 Điều này phải có chương trình và tài liệu đào tạo được cấp có thẩm quyền thẩm định, phê duyệt theo quy định tại Điều 8 Thông tư này. (đã bị bãi bỏ) 6. Việc quy đổi thời gian đào tạo liên tục quy định tại các khoản 2, 3 và 4 Điều này do Thủ trưởng cơ sở đào tạo liên tục quyết định theo nguyên tắc căn cứ vào chương trình, thời lượng, nội dung chuyên môn trong đào tạo liên tục và các quy định hiện hành khác. ',\n",
       "  'answer': 'Cán bộ y tế tham gia biên soạn giáo trình chuyên môn được tính tối đa không quá 8 tiết đối với 1 tài liệu do người đứng đầu đơn vị xem xét (tính vào thời điểm xuất bản)',\n",
       "  'oke': 'True'},\n",
       " {'question': 'Nuôi gấu lấy mật thì có được xem là hợp pháp hay không?',\n",
       "  'passage': 'Căn cứ khoản 1 Điều 15\\xa0Nghị định 06/2019/NĐ-CP quy định về điều kiện nuôi, trồng các loài động vật, thực vật hoang dã nguy cấp thuộc Phụ lục CITES vì mục đích thương mại như sau: 1. Đối với động vật: a) Đảm bảo nguồn giống hợp pháp: Khai thác hợp pháp; mẫu vật sau xử lý tịch thu theo quy định của pháp luật; nhập khẩu hợp pháp hoặc mẫu vật từ cơ sở nuôi hợp pháp khác; b) Chuồng, trại được xây dựng phù hợp với đặc tính của loài nuôi; bảo đảm các điều kiện an toàn cho người và vật nuôi, vệ sinh môi trường, phòng ngừa dịch bệnh; c) Loài nuôi là loài được Cơ quan khoa học CITES Việt Nam công bố có khả năng sinh sản liên tiếp qua nhiều thế hệ trong môi trường có kiểm soát; và được Cơ quan khoa học CITES Việt Nam xác nhận bằng văn bản việc nuôi sinh sản, sinh trưởng không làm ảnh hưởng đến sự tồn tại của loài nuôi và các loài có liên quan trong tự nhiên; d) Có phương án nuôi theo Mẫu số 04 Mẫu số 06\\xa0tại Phụ lục ban hành kèm theo Nghị định này. ',\n",
       "  'answer': 'việc nuôi gấu phải đảm bảo được cái điều kiện sau, trong trường hợp lấy mật gấu sẽ gây ảnh hưởng đến sức khỏe của gấu vì vậy việc này là không hợp pháp sẽ bị xử phạt  của pháp luật',\n",
       "  'oke': 'True'},\n",
       " {'question': 'Tiền lẻ như thế nào được xem là không đủ tiêu chuẩn lưu thông?',\n",
       "  'passage': 'Tại Điều 4 Thông tư 25/2013/TT-NHNN có quy định về tiêu chuẩn tiền không đủ tiêu chuẩn lưu thông như sau: Tiêu chuẩn tiền không đủ tiêu chuẩn lưu thông 1. Tiền rách nát, hư hỏng do quá trình lưu thông (nhóm nguyên nhân khách quan): a) Tiền giấy bị thay đổi màu sắc, mờ nhạt hình ảnh hoa văn, chữ, số; nhàu, nát, nhòe, bẩn, cũ; rách rời hay liền mảnh được can dán lại nhưng còn nguyên tờ tiền; b) Tiền kim loại bị mòn, han gỉ, hư hỏng một phần hoặc toàn bộ hình ảnh, hoa văn, chữ, số và lớp mạ trên đồng tiền. 2. Tiền rách nát, hư hỏng do quá trình bảo quản (nhóm nguyên nhân chủ quan): a) Tiền giấy bị thủng lỗ, rách mất một phần; tiền được can dán; cháy hoặc biến dạng do tiếp xúc với nguồn nhiệt cao; giấy in, màu sắc, đặc điểm kỹ thuật bảo an của đồng tiền bị biến đổi do tác động của hóa chất (như chất tẩy rửa, axít, chất ăn mòn...); viết, vẽ, tẩy xóa; đồng tiền bị mục hoặc biến dạng bởi các lý do khác nhưng không do hành vi hủy hoại; b) Tiền kim loại bị cong, vênh, thay đổi định dạng, hình ảnh thiết kế do tác động của ngoại lực hoặc nhiệt độ cao; bị ăn mòn do tiếp xúc với hóa chất. 3. Tiền bị lỗi kỹ thuật do quá trình in, đúc của nhà sản xuất như giấy in bị gấp nếp làm mất hình ảnh hoặc mất màu in, lấm bẩn mực in và các lỗi khác trong khâu in, đúc. ',\n",
       "  'answer': 'trong trường hợp tiền lẻ bị rách nát, hư hỏng do quá trình lưu thông; bị rách nát, hư hỏng do quá trình bảo quản hoặc bị lỗi kỹ thuật do quá trình in, đúc của nhà sản xuất  được xem là không đủ tiêu chuẩn lưu thông',\n",
       "  'oke': 'True'},\n",
       " {'question': 'Hành nghề luật sư cần đáp ứng những tiêu chuẩn, điều kiện gì?',\n",
       "  'passage': 'Căn cứ Điều 10 Luật Luật sư 2006 có quy định như sau: Tiêu chuẩn luật sư Công dân Việt Nam trung thành với Tổ quốc, tuân thủ Hiến pháp và pháp luật, có phẩm chất đạo đức tốt, có bằng cử nhân luật, đã được đào tạo nghề luật sư, đã qua thời gian tập sự hành nghề luật sư, có sức khoẻ bảo đảm hành nghề luật sư thì có thể trở thành luật sư. Điều 11 Luật Luật sư 2006 có quy định như sau: Điều kiện hành nghề luật sư Người có đủ tiêu chuẩn quy định tại Điều 10 của Luật này muốn được hành nghề luật sư phải có Chứng chỉ hành nghề luật sư và gia nhập một Đoàn luật sư. ',\n",
       "  'answer': 'để được hành nghề luật sư  phải có Chứng chỉ hành nghề luật sư và gia nhập một Đoàn luật sư. Ngoài ra, phải đáp ứng các tiêu chuẩn về phẩm chất như trung thành với Tổ quốc, tuân thủ Hiến pháp và pháp luật, có phẩm chất đạo đức tốt. Về năng lực  phải có bằng cử nhân luật, đã được đào tạo nghề luật sư và đã qua thời gian tập sự hành nghề luật sư, có sức khoẻ bảo đảm hành nghề',\n",
       "  'oke': 'True'},\n",
       " {'question': 'Người làm chứng khai báo gian dối có bị truy cứu trách nhiệm hình sự không?',\n",
       "  'passage': 'Căn cứ Điều 382 Bộ luật Hình sự 2015, được bổ sung bởi điểm u khoản 1 Điều 2 Luật Sửa đổi Bộ luật Hình sự 2017 quy định về tội cung cấp tài liệu sai sự thật hoặc khai báo gian dối như sau: Tội cung cấp tài liệu sai sự thật hoặc khai báo gian dối 1. Người làm chứng, người giám định, người định giá tài sản, người phiên dịch, người dịch thuật, người bào chữa nào mà kết luận, dịch, khai gian dối hoặc cung cấp những tài liệu mà mình biết rõ là sai sự thật, thì bị phạt cảnh cáo, phạt cải tạo không giam giữ đến 01 năm hoặc phạt tù từ 03 tháng đến 01 năm. 2. Phạm tội thuộc một trong các trường hợp sau đây, thì bị phạt tù từ 01 năm đến 03 năm: a) Có tổ chức; b) Dẫn đến việc giải quyết vụ án, vụ việc bị sai lệch. 3. Phạm tội thuộc một trong các trường hợp sau đây, thì bị phạt tù từ 03 năm đến 07 năm: a) Phạm tội 02 lần trở lên; b) Dẫn đến việc kết án oan người vô tội hoặc bỏ lọt tội phạm hoặc người phạm tội 4. Người phạm tội còn có thể bị cấm đảm nhiệm chức vụ, cấm hành nghề hoặc làm công việc nhất định từ 01 năm đến 05 năm. ',\n",
       "  'answer': 'nếu như người làm chứng có hành vi khai báo gian dối có thể bị cải tạo không giam giữ đến 1 năm hoặc phạt tù cao nhất có thể lên đến 3 năm. Bên cạnh đó, người phạm tôi có thể bị cấm đảm nhiệm chức vụ, cấm hành nghề hoặc làm công việc nhất định từ 01 năm đến 05 năm. ',\n",
       "  'oke': 'True'},\n",
       " {'question': 'Nguyên tắc phối hợp giữa Cảnh sát biển Việt Nam với lực lượng chức năng như thế nào? ',\n",
       "  'passage': 'Theo Điều 23 Luật Cảnh sát biển Việt Nam 2018 có quy định về nguyên tắc phối hợp giữa Cảnh sát biển Việt Nam với cơ quan, tổ chức, lực lượng chức năng như sau: Nguyên tắc phối hợp 1. Việc phối hợp phải trên cơ sở nhiệm vụ, quyền hạn của cơ quan, tổ chức, lực lượng chức năng thuộc Bộ, cơ quan ngang Bộ và Ủy ban nhân dân cấp tỉnh theo quy định của pháp luật; không làm cản trở hoạt động hợp pháp của cơ quan, tổ chức, cá nhân trên biển. 2. Cảnh sát biển Việt Nam và cơ quan, tổ chức, lực lượng chức năng thuộc Bộ, cơ quan ngang Bộ và Ủy ban nhân dân cấp tỉnh trực tiếp phối hợp để giải quyết kịp thời các vụ việc và hỗ trợ nhau thực hiện nhiệm vụ, quyền hạn do pháp luật quy định. 3. Bảo đảm sự chủ trì, điều hành tập trung, thống nhất, giữ bí mật thông tin về quốc phòng, an ninh và biện pháp nghiệp vụ của cơ quan, tổ chức, lực lượng chức năng trong quá trình phối hợp. 4. Bảo đảm chủ động, linh hoạt, cụ thể và hiệu quả, gắn với trách nhiệm của người đứng đầu cơ quan chủ trì, phối hợp. 5. Trên cùng một vùng biển, khi phát hiện hành vi vi phạm pháp luật liên quan đến nhiệm vụ, quyền hạn của nhiều cơ quan, tổ chức, lực lượng thì cơ quan, tổ chức, lực lượng nào phát hiện trước phải xử lý theo thẩm quyền do pháp luật quy định; trường hợp vụ việc không thuộc thẩm quyền của mình thì chuyển giao hồ sơ, người, tang vật, tàu thuyền và phương tiện vi phạm pháp luật cho cơ quan, tổ chức, lực lượng có thẩm quyền chủ trì giải quyết. Cơ quan, tổ chức, lực lượng tiếp nhận có trách nhiệm thông báo kết quả điều tra, xử lý cho cơ quan, tổ chức, lực lượng chuyển giao biết. ',\n",
       "  'answer': 'nguyên tắc phối hợp giữa Cảnh sát biển Việt Nam với cơ quan, tổ chức, lực lượng chức năng bao gồm: - Việc phối hợp phải trên cơ sở nhiệm vụ, quyền hạn của cơ quan, tổ chức, lực lượng chức năng thuộc Bộ, cơ quan ngang Bộ và Ủy ban nhân dân cấp tỉnh  của pháp luật; không làm cản trở hoạt động hợp pháp của cơ quan, tổ chức, cá nhân trên biển. - Cảnh sát biển Việt Nam và cơ quan, tổ chức, lực lượng chức năng thuộc Bộ, cơ quan ngang Bộ và Ủy ban nhân dân cấp tỉnh trực tiếp phối hợp để giải quyết kịp thời các vụ việc và hỗ trợ nhau thực hiện nhiệm vụ, quyền hạn do pháp luật quy định. - Bảo đảm sự chủ trì, điều hành tập trung, thống nhất, giữ bí mật thông tin về quốc phòng, an ninh và biện pháp nghiệp vụ của cơ quan, tổ chức, lực lượng chức năng trong quá trình phối hợp. - Bảo đảm chủ động, linh hoạt, cụ thể và hiệu quả, gắn với trách nhiệm của người đứng đầu cơ quan chủ trì, phối hợp. - Trên cùng một vùng biển, khi phát hiện hành vi vi phạm pháp luật liên quan đến nhiệm vụ, quyền hạn của nhiều cơ quan, tổ chức, lực lượng  cơ quan, tổ chức, lực lượng nào phát hiện trước phải xử lý theo thẩm quyền do pháp luật quy định;',\n",
       "  'oke': 'True'},\n",
       " {'question': 'Tốt nghiệp cao đẳng có được tuyển chọn đào tạo sĩ quan dự bị không?',\n",
       "  'passage': 'Căn cứ Điều 4 Nghị định 78/2020/NĐ-CP quy định như sau: Đối tượng, tiêu chuẩn tuyển chọn đào tạo sĩ quan dự bị 1. Đối tượng tuyển chọn a) Quân nhân chuyên nghiệp, hạ sĩ quan chuẩn bị xuất ngũ; b) Hạ sĩ quan dự bị, cán bộ, công chức, viên chức và công dân tốt nghiệp đại học trở lên; c) Sinh viên khi tốt nghiệp đại học. 2. Tiêu chuẩn tuyển chọn a) Tiêu chuẩn chung Đối tượng quy định tại khoản 1 Điều này có lịch sử chính trị của gia đình và bản thân rõ ràng, là đảng viên Đảng Cộng sản Việt Nam hoặc có đủ tiêu chuẩn chính trị để bồi dưỡng phát triển thành đảng viên Đảng Cộng sản Việt Nam; có bản lĩnh chính trị vững vàng, phẩm chất đạo đức tốt, tuyệt đối trung thành với Đảng, với Tổ quốc và Nhân dân; có trình độ, kiến thức chuyên môn, học vấn, tuổi đời phù hợp với từng đối tượng; sức khỏe từ loại 01 đến loại 03 theo quy định tuyển chọn sức khỏe tuyển quân, tuyển sinh quân sự của Bộ trưởng Bộ Y tế và Bộ trưởng Bộ Quốc phòng. b) Tiêu chuẩn cụ thể Quân nhân chuyên nghiệp, hạ sĩ quan chuẩn bị xuất ngũ, hạ sĩ quan dự bị đã giữ chức phó trung đội trưởng hoặc cán bộ tiểu đội và tương đương; tốt nghiệp trung học phổ thông trở lên, nếu thiếu, tuyển chọn đến tốt nghiệp trung học cơ sở, với người dân tộc thiểu số tuyển chọn trình độ học vấn lớp 7 trở lên; tuổi đời đối với quân nhân chuyên nghiệp không quá 35, hạ sĩ quan chuẩn bị xuất ngũ và hạ sĩ quan dự bị không quá 30; Cán bộ, công chức, viên chức tuổi đời không quá 35; riêng đào tạo sĩ quan dự bị ngành y, dược, tuổi đời không quá 40; đào tạo sĩ quan dự bị chính trị phải là đảng viên Đảng Cộng sản Việt Nam; Công dân tốt nghiệp đại học trở lên, tuổi đời không quá 35; sinh viên khi tốt nghiệp đại học, tuổi đời không quá 30. ',\n",
       "  'answer': 'đối tượng tuyển chọn đào tạo sĩ quan dự bị bao gồm: - Quân nhân chuyên nghiệp, hạ sĩ quan chuẩn bị xuất ngũ; - Hạ sĩ quan dự bị, cán bộ, công chức, viên chức và công dân tốt nghiệp đại học trở lên; - Sinh viên khi tốt nghiệp đại học. , đối tượng tốt nghiệp cao đẳng không thuộc đối tượng tuyển chọn đào tạo sĩ quan dự bị',\n",
       "  'oke': 'True'},\n",
       " {'question': 'Đốt vàng mã không đúng nơi quy định bị phạt bao nhiêu tiền?',\n",
       "  'passage': 'Điều 14 Nghị định 38/2021/NĐ-CP quy định về xử phạt hành chính với hành vi phạm quy định về tổ chức lễ hội như sau: Vi phạm quy định về tổ chức lễ hội 1. Phạt cảnh cáo hoặc phạt tiền từ 200.000 đồng đến 500.000 đồng đối với một trong các hành vi sau đây: a) Thấp hương hoặc đốt vàng mã không đúng nơi quy định; b) Nói tục, chửi thề, xúc phạm tâm linh gây ảnh hưởng đến không khí trang nghiêm của lễ hội; c) Mặc trang phục không lịch sự hoặc không phù hợp với truyền thống văn hóa Việt Nam. 2. Phạt tiền từ 500.000 đồng đến 1.000.000 đồng đối với một trong các hành vi sau đây: a) Không báo cáo bằng văn bản kết quả tổ chức lễ hội đến cơ quan nhà nước có thẩm quyền theo quy định; b) Chèo kéo người tham dự lễ hội sử dụng dịch vụ, hàng hóa của mình. Khoản 3 Điều 5 Nghị định 38/2021/NĐ-CP quy định về mức phạt tiền và thẩm quyền phạt tiền đối với cá nhân, tổ chức như sau: Quy định về mức phạt tiền và thẩm quyền phạt tiền đối với cá nhân, tổ chức ... 3. Đối với cùng một hành vi vi phạm hành chính mức phạt tiền đối với tổ chức gấp 02 lần mức phạt tiền đối với cá nhân. ',\n",
       "  'answer': 'với hành vi đốt vàng mã không đúng nơi quy định, cá nhân thực hiện hành vi có thể bị xử phạt vi phạm hành chính với mức phạt tiền từ 200.000 đồng đến 500.000 đồng. Với tổ chức thực hiện hành vi này bị phạt gấp 02 lần mức phạt tiền đối với cá nhân. Người thực hiện hành vi đốt vàng mã không đúng nơi quy định còn có thể bị xử phạt hành chính dưới hình thức phạt cảnh cáo',\n",
       "  'oke': 'True'},\n",
       " {'question': 'Đầu tư theo phương thức PPP là gì?',\n",
       "  'passage': 'Tại Điều 3 Luật Đầu tư theo phương thức đối tác công tư 2020 có quy định như sau: ..... 10. Đầu tư theo phương thức đối tác công tư (Public Private Partnership - sau đây gọi là đầu tư theo phương thức PPP) là phương thức đầu tư được thực hiện trên cơ sở hợp tác có thời hạn giữa Nhà nước và nhà đầu tư tư nhân thông qua việc ký kết và thực hiện hợp đồng dự án PPP nhằm thu hút nhà đầu tư tư nhân tham gia dự án PPP. ....... ',\n",
       "  'answer': 'đầu tư theo phương thức PPP (Public Private Partnership) là phương thức đầu tư được thực hiện trên cơ sở hợp tác có thời hạn giữa Nhà nước và nhà đầu tư tư nhân thông qua việc ký kết và thực hiện hợp đồng dự án PPP nhằm thu hút nhà đầu tư tư nhân',\n",
       "  'oke': 'True'}]"
      ]
     },
     "execution_count": 3,
     "metadata": {},
     "output_type": "execute_result"
    }
   ],
   "source": [
    "\n",
    "with open(os.path.join(DATA_FOLDER, \"sample.json\"), encoding=\"utf8\") as json_file:\n",
    "    qa_data = json.load(json_file)\n",
    "\n",
    "qa_data"
   ]
  },
  {
   "cell_type": "code",
   "execution_count": 4,
   "metadata": {},
   "outputs": [],
   "source": [
    "from selenium.common.exceptions import NoSuchElementException\n",
    "from selenium.webdriver.support.ui import WebDriverWait\n",
    "from selenium.webdriver.support import expected_conditions as EC\n",
    "from selenium.webdriver.common.by import By\n",
    "import undetected_chromedriver as uc\n",
    "from fake_useragent import UserAgent\n",
    "from selenium.common.exceptions import WebDriverException\n",
    "import shutil\n",
    "import copy\n",
    "\n",
    "\n",
    "def openai_login(driver, email, password):\n",
    "\n",
    "    curent_url = driver.current_url\n",
    "    if \"login\" not in curent_url:\n",
    "        driver.get('https://chat.openai.com/auth/login')\n",
    "\n",
    "    inputElement = driver.find_element(\n",
    "        By.XPATH, \"//button[@data-testid='login-button']\")\n",
    "    inputElement.click()\n",
    "    time.sleep(3)\n",
    "    mail = driver.find_element(By.XPATH, \"//input[@inputmode='email']\")\n",
    "    mail.send_keys(u'\\ue009' + u'\\ue003')\n",
    "    mail.send_keys(email)\n",
    "    btn = driver.find_elements(By.TAG_NAME, \"button\")[0]\n",
    "    btn.click()\n",
    "    time.sleep(0.75)\n",
    "    password_element = WebDriverWait(driver, 10).until(\n",
    "        EC.visibility_of_element_located((By.XPATH, \"//input[@id='password']\"))\n",
    "    )\n",
    "    password_element.send_keys(password)\n",
    "    btn = driver.find_element(\n",
    "        By.XPATH, \"//button[starts-with(text(),'Continue') and @data-action-button-primary]\")\n",
    "    btn.click()\n",
    "    logging.info(f\"Logging as {email} ...\")\n",
    "\n",
    "def skip_popups(driver):\n",
    "    time.sleep(3)\n",
    "    try:\n",
    "        skip = driver.find_element(\n",
    "            By.XPATH, \"//div[starts-with(text(),'Okay, let')]\")\n",
    "        skip.click()\n",
    "    except NoSuchElementException:\n",
    "        logging.info(\"* Skipping skip_popups\")"
   ]
  },
  {
   "cell_type": "code",
   "execution_count": 5,
   "metadata": {},
   "outputs": [],
   "source": [
    "def get_driver_with_account(account, password, data_user_folder):\n",
    "\n",
    "    op = uc.ChromeOptions()\n",
    "    # op.add_argument(\"--headless\")\n",
    "    op.add_argument('--no-sandbox')\n",
    "    op.add_argument('--disable-dev-shm-usage')\n",
    "    op.add_argument(f\"--user-agent={UserAgent.random}\")\n",
    "    op.add_argument(f\"--user-data-dir=selenium-data/{data_user_folder}/\")\n",
    "    op_copy = copy.deepcopy(op)\n",
    "\n",
    "    try:\n",
    "        driver = uc.Chrome(options=op, use_subprocess=True)\n",
    "    except WebDriverException as e:\n",
    "        logging.info(\"Unknown Bug \" + str(e))\n",
    "        logging.info(e.stacktrace)\n",
    "        logging.info(\"Attempting to debug the exception\")\n",
    "        selenium_data_path = f\"selenium-data/{data_user_folder}/\"\n",
    "        if os.path.exists(selenium_data_path):\n",
    "            shutil.rmtree(selenium_data_path)\n",
    "            logging.info(f\"Delete folder {selenium_data_path}\")\n",
    "            driver = uc.Chrome(options=op_copy, use_subprocess=True)\n",
    "\n",
    "        else:\n",
    "            logging.info(\n",
    "                f\"There is not exist {selenium_data_path} to delete and debug.\")\n",
    "            raise (e)\n",
    "\n",
    "    driver.get(\"https://chat.openai.com/\")\n",
    "    time.sleep(5)\n",
    "    curent_url = driver.current_url\n",
    "    if \"login\" in curent_url:\n",
    "        try:\n",
    "            openai_login(driver, account, password)\n",
    "            time.sleep(10)\n",
    "        except Exception as e:\n",
    "            logging.info(\"--------------------------------\")\n",
    "            logging.info(f\"Something wrong when logging as {account}.\")\n",
    "            logging.info(\"--------------------------------\")\n",
    "            raise (e)\n",
    "\n",
    "    skip_popups(driver)\n",
    "    return driver\n"
   ]
  },
  {
   "cell_type": "code",
   "execution_count": 19,
   "metadata": {},
   "outputs": [
    {
     "name": "stderr",
     "output_type": "stream",
     "text": [
      "2023-10-23 13:07:57 - * Skipping skip_popups\n"
     ]
    }
   ],
   "source": [
    "\n",
    "from SeleniumChatGPT import get_response\n",
    "from newTvlpOneAccount import get_driver_with_account\n",
    "\n",
    "driver = get_driver_with_account(mail, password, folder_path)"
   ]
  },
  {
   "cell_type": "code",
   "execution_count": null,
   "metadata": {},
   "outputs": [],
   "source": []
  },
  {
   "cell_type": "code",
   "execution_count": 12,
   "metadata": {},
   "outputs": [
    {
     "name": "stdout",
     "output_type": "stream",
     "text": [
      "hehe\n"
     ]
    }
   ],
   "source": [
    "if \"oke\" in  qa_data[0].keys():\n",
    "    print(\"hehe\")\n",
    "else:\n",
    "    print(\"haha\")"
   ]
  },
  {
   "cell_type": "code",
   "execution_count": 20,
   "metadata": {},
   "outputs": [],
   "source": [
    "def generate_feeds(driver, input_path, save_rate=1000):\n",
    "\n",
    "    # Read normal jsonl data\n",
    "    with open(input_path, encoding=\"utf8\") as json_file:\n",
    "        qa_data = json.load(json_file)\n",
    "\n",
    "    for idx, qa in enumerate(qa_data):\n",
    "        if \"oke\" in qa.keys():\n",
    "            if qa[\"oke\"] == \"True\" or qa[\"oke\"] == \"False\":\n",
    "                continue\n",
    "        \n",
    "        passage = qa[\"passage\"]\n",
    "        question = qa[\"question\"]\n",
    "        prompt = f\"\"\"\n",
    "\n",
    "You are a Vietnamese , you can understand anything in Vietnamese. You are also a good researcher and you have ability to read a passage, think step by step and decide whether the information in the passage can be use to find the answer for any questions.\n",
    "\n",
    "\n",
    "Cho ngữ cảnh sau\n",
    "\n",
    "'{passage}'\n",
    "\n",
    "Liệu ngữ cảnh trên có thể dùng để trả lời câu hỏi '{question}' không? Hãy giải thích chi tiết và trả lời ở CUỐI CÂU là 'True' nếu có và 'False' nếu không, lưu ý 'True' và 'False' phải được đặt ở cuối câu.\n",
    "\n",
    "OUTPUT:\n",
    "\"\"\"        # prompt_preprocess = prompt.replace(\"\\n\", Keys.chord(Keys.SHIFT, Keys.ENTER));\n",
    "        try:\n",
    "            response = get_response(\n",
    "                driver, prompt=prompt, waittime=100)\n",
    "            qa[\"oke\"] = response.strip()\n",
    "            logging.info(\n",
    "                f\"Question ID {idx}  - {response}\")\n",
    "\n",
    "        except Exception as e:\n",
    "            raise (e)\n",
    "        # if (idx + 1) % save_rate == 0:\n",
    "        #     with open(input_path, \"w\", encoding=\"utf8\") as file:\n",
    "        #         json.dump(qa_data, file)\n",
    "        #         logging.info(\"Saving....\")\n",
    "\n",
    "    # with open(input_path, \"w\", encoding=\"utf8\") as file:\n",
    "    #     json.dump(qa_data, file)\n",
    "    #     logging.info(\"Saving....\")\n",
    "    logging.info(\"Finish.\")\n",
    "    return qa_data"
   ]
  },
  {
   "cell_type": "code",
   "execution_count": 21,
   "metadata": {},
   "outputs": [],
   "source": [
    "prompt = f\"\"\"\n",
    "You are a Vietnamese , you can understand anything in Vietnamese. You are also a good researcher and you have ability to read a passage and decide whether the information in the passage can be use to find the answer for any questions, if yes you only answer 'True' and if not you only answer 'False' and hate explaining\n",
    "Cho ngữ cảnh sau\n",
    "\n",
    "'{password}'\n",
    "\n",
    "Liệu ngữ cảnh trên có thể dùng để trả lời câu hỏi '{mail}' không, nhấn mạnh là chỉ sử dụng thông tin từ ngữ cảnh trên và không sử dụng thêm bất cứ thông tin bên ngoài nào?. Nếu có hãy trả lời duy nhất một từ là 'True' còn nếu không trả lời duy nhất một từ 'False' và không cần giải thích\n",
    "\n",
    "OUTPUT:\n",
    "\"\"\""
   ]
  },
  {
   "cell_type": "code",
   "execution_count": 25,
   "metadata": {},
   "outputs": [
    {
     "data": {
      "text/plain": [
       "True"
      ]
     },
     "execution_count": 25,
     "metadata": {},
     "output_type": "execute_result"
    }
   ],
   "source": [
    "'True' in \"Cau tra loi la 'True'\""
   ]
  },
  {
   "cell_type": "code",
   "execution_count": 22,
   "metadata": {},
   "outputs": [
    {
     "name": "stdout",
     "output_type": "stream",
     "text": [
      "\n",
      "You are a Vietnamese , you can understand anything in Vietnamese. You are also a good researcher and you have ability to read a passage and decide whether the information in the passage can be use to find the answer for any questions, if yes you only answer 'True' and if not you only answer 'False' and hate explaining\n",
      "Cho ngữ cảnh sau\n",
      "\n",
      "'nguyendichnhatminh'\n",
      "\n",
      "Liệu ngữ cảnh trên có thể dùng để trả lời câu hỏi 'nguyendichnhatminh@gmail.com' không, nhấn mạnh là chỉ sử dụng thông tin từ ngữ cảnh trên và không sử dụng thêm bất cứ thông tin bên ngoài nào?. Nếu có hãy trả lời duy nhất một từ là 'True' còn nếu không trả lời duy nhất một từ 'False' và không cần giải thích\n",
      "\n",
      "OUTPUT:\n",
      "\n"
     ]
    }
   ],
   "source": [
    "print(prompt)"
   ]
  },
  {
   "cell_type": "code",
   "execution_count": 23,
   "metadata": {},
   "outputs": [
    {
     "name": "stderr",
     "output_type": "stream",
     "text": [
      "2023-10-23 13:08:39 - Question ID 0  - Có, ngữ cảnh trên cung cấp thông tin chi tiết về các yêu cầu cần phải bảo đảm khi trích lập dự phòng nghiệp vụ của doanh nghiệp kinh doanh bảo hiểm theo Điều 97 Luật Kinh doanh bảo hiểm 2022. Cụ thể, các yêu cầu đó bao gồm:\n",
      "a) Trích lập riêng cho từng nghiệp vụ bảo hiểm.\n",
      "b) Tương ứng với phần trách nhiệm đã cam kết theo thỏa thuận trong hợp đồng bảo hiểm.\n",
      "c) Tách biệt giữa các hợp đồng bảo hiểm của đối tượng bảo hiểm trong và ngoài phạm vi lãnh thổ Việt Nam, kể cả trong cùng một nghiệp vụ bảo hiểm, trừ trường hợp pháp luật có quy định khác.\n",
      "d) Luôn có tài sản tương ứng với dự phòng nghiệp vụ đã trích lập, đồng thời tách biệt tài sản tương ứng với dự phòng quy định.\n",
      "đ) Sử dụng Chuyên gia tính toán để tính toán, trích lập dự phòng nghiệp vụ.\n",
      "e) Thường xuyên rà soát, đánh giá việc trích lập dự phòng nghiệp vụ; kịp thời có các biện pháp nhằm bảo đảm trích lập đầy đủ dự phòng để chi trả cho các trách nhiệm của doanh nghiệp bảo hiểm, doanh nghiệp tái bảo hiểm, chi nhánh nước ngoài tại Việt Nam.\n",
      "Vì vậy, câu hỏi 'Việc trích lập dự phòng nghiệp vụ của doanh nghiệp kinh doanh bảo hiểm phải bảo đảm những yêu cầu nào?' có thể trả lời là 'True' vì thông tin trong ngữ cảnh xác định các yêu cầu cụ thể mà doanh nghiệp kinh doanh bảo hiểm cần phải tuân theo.\n",
      "2023-10-23 13:09:06 - Question ID 1  - Có, ngữ cảnh trên cung cấp thông tin về thời gian đào tạo liên tục liên quan đến việc biên soạn giáo trình chuyên môn cho cán bộ y tế. Theo ngữ cảnh, cán bộ y tế không phải là giảng viên của cơ sở giáo dục tham gia giảng dạy liên quan đến chuyên môn nghiệp vụ và thời gian đào tạo liên tục cho họ được tính theo thời gian thực tế. Điều này được nêu rõ trong câu \"cán bộ y tế không phải là giảng viên của cơ sở giáo dục tham gia giảng dạy liên quan đến chuyên môn nghiệp vụ được tính theo thời gian thực tế.\"\n",
      "Vì vậy, câu hỏi 'Cán bộ y tế tham gia biên soạn giáo trình chuyên môn được tính thời gian đào tạo liên tục bao nhiêu?' có thể trả lời là 'Thời gian đào tạo liên tục cho cán bộ y tế tham gia biên soạn giáo trình chuyên môn được tính theo thời gian thực tế.' Và với điều này, câu hỏi có thể trả lời là 'True'.\n",
      "2023-10-23 13:09:24 - Question ID 2  - Dựa trên ngữ cảnh cung cấp, không có thông tin cụ thể về việc nuôi gấu để lấy mật trong đoạn văn trích dẫn. Ngữ cảnh chỉ đề cập đến quy định về điều kiện nuôi và trồng các loài động vật và thực vật hoang dã nguy cấp thuộc Phụ lục CITES với mục đích thương mại, nhưng không đề cập đến việc nuôi gấu để lấy mật.\n",
      "Vì vậy, câu hỏi 'Nuôi gấu lấy mật thì có được xem là hợp pháp hay không?' không thể trả lời dựa trên thông tin có sẵn trong ngữ cảnh, và câu trả lời là 'False' vì không có thông tin liên quan đến việc nuôi gấu để lấy mật trong đoạn văn.\n",
      "2023-10-23 13:10:40 - Question ID 3  - Có, ngữ cảnh trên cung cấp thông tin về tiêu chuẩn tiền không đủ tiêu chuẩn lưu thông. Theo đó, tiền lẻ được xem là không đủ tiêu chuẩn lưu thông khi nó thỏa các tiêu chuẩn sau đây:\n",
      "Tiền rách nát, hư hỏng do quá trình lưu thông (nhóm nguyên nhân khách quan):\n",
      "a) Tiền giấy bị thay đổi màu sắc, mờ nhạt hình ảnh hoa văn, chữ, số; nhàu, nát, nhòe, bẩn, cũ; rách rời hay liền mảnh được can dán lại nhưng còn nguyên tờ tiền.\n",
      "b) Tiền kim loại bị mòn, han gỉ, hư hỏng một phần hoặc toàn bộ hình ảnh, hoa văn, chữ, số và lớp mạ trên đồng tiền.\n",
      "Tiền rách nát, hư hỏng do quá trình bảo quản (nhóm nguyên nhân chủ quan):\n",
      "a) Tiền giấy bị thủng lỗ, rách mất một phần; tiền được can dán; cháy hoặc biến dạng do tiếp xúc với nguồn nhiệt cao; giấy in, màu sắc, đặc điểm kỹ thuật bảo an của đồng tiền bị biến đổi do tác động của hóa chất (như chất tẩy rửa, axít, chất ăn mòn...); viết, vẽ, tẩy xóa; đồng tiền bị mục hoặc biến dạng bởi các lý do khác nhưng không do hành vi hủy hoại.\n",
      "b) Tiền kim loại bị cong, vênh, thay đổi định dạng, hình ảnh thiết kế do tác động của ngoại lực hoặc nhiệt độ cao; bị ăn mòn do tiếp xúc với hóa chất.\n",
      "Vì vậy, câu hỏi 'Tiền lẻ như thế nào được xem là không đủ tiêu chuẩn lưu thông?' có thể trả lời là 'Tiền lẻ sẽ được xem là không đủ tiêu chuẩn lưu thông khi nó thỏa các tiêu chuẩn được mô tả ở trên.' và câu trả lời là 'True'.\n",
      "2023-10-23 13:10:58 - Question ID 4  - Có, ngữ cảnh trên cung cấp thông tin về các tiêu chuẩn và điều kiện cần phải đáp ứng để hành nghề luật sư. Theo ngữ cảnh:\n",
      "Tiêu chuẩn luật sư bao gồm:\n",
      "Là công dân Việt Nam trung thành với Tổ quốc.\n",
      "Tuân thủ Hiến pháp và pháp luật.\n",
      "Có phẩm chất đạo đức tốt.\n",
      "Có bằng cử nhân luật.\n",
      "Đã được đào tạo nghề luật sư.\n",
      "Đã qua thời gian tập sự hành nghề luật sư.\n",
      "Có sức khoẻ bảo đảm hành nghề luật sư.\n",
      "Điều kiện hành nghề luật sư bao gồm:\n",
      "Người có đủ tiêu chuẩn quy định tại Điều 10 của Luật Luật sư muốn được hành nghề luật sư phải có Chứng chỉ hành nghề luật sư và gia nhập một Đoàn luật sư.\n",
      "Vì vậy, câu hỏi 'Hành nghề luật sư cần đáp ứng những tiêu chuẩn, điều kiện gì?' có thể trả lời là 'Hành nghề luật sư cần phải đáp ứng các tiêu chuẩn và điều kiện được mô tả trong ngữ cảnh trên,' và câu trả lời là 'True'.\n",
      "2023-10-23 13:11:18 - Question ID 5  - Có, ngữ cảnh trên cung cấp thông tin về trách nhiệm hình sự đối với người làm chứng khi họ khai báo gian dối. Theo ngữ cảnh:\n",
      "Điều 382 Bộ luật Hình sự 2015 quy định rằng người làm chứng, nếu họ kết luận, dịch, khai gian dối hoặc cung cấp tài liệu mà họ biết rõ là sai sự thật, có thể bị phạt cảnh cáo, phạt cải tạo không giam giữ đến 01 năm hoặc phạt tù từ 03 tháng đến 01 năm.\n",
      "Vì vậy, câu hỏi 'Người làm chứng khai báo gian dối có bị truy cứu trách nhiệm hình sự không?' có thể trả lời là 'Có, người làm chứng khai báo gian dối có thể bị truy cứu trách nhiệm hình sự theo quy định của Điều 382 Bộ luật Hình sự 2015,' và câu trả lời là 'True'.\n",
      "2023-10-23 13:11:45 - Question ID 6  - Có, ngữ cảnh trên cung cấp thông tin về nguyên tắc phối hợp giữa Cảnh sát biển Việt Nam và lực lượng chức năng. Theo ngữ cảnh:\n",
      "Nguyên tắc phối hợp yêu cầu việc phối hợp phải dựa trên nhiệm vụ và quyền hạn của cơ quan, tổ chức, lực lượng chức năng thuộc Bộ, cơ quan ngang Bộ và Ủy ban nhân dân cấp tỉnh theo quy định của pháp luật. Điều này đảm bảo rằng các hoạt động phối hợp không làm cản trở hoạt động hợp pháp của các cơ quan, tổ chức, và cá nhân trên biển.\n",
      "Cảnh sát biển Việt Nam và cơ quan, tổ chức, lực lượng chức năng thuộc Bộ, cơ quan ngang Bộ và Ủy ban nhân dân cấp tỉnh phải trực tiếp phối hợp để giải quyết kịp thời các vụ việc và hỗ trợ nhau thực hiện nhiệm vụ, quyền hạn do pháp luật quy định.\n",
      "Vì vậy, câu hỏi 'Nguyên tắc phối hợp giữa Cảnh sát biển Việt Nam với lực lượng chức năng như thế nào?' có thể trả lời là 'Nguyên tắc phối hợp đòi hỏi việc phối hợp phải dựa trên nhiệm vụ và quyền hạn của các cơ quan, tổ chức, lực lượng chức năng theo quy định của pháp luật, và các cơ quan cần trực tiếp phối hợp để giải quyết các vụ việc và hỗ trợ nhau thực hiện nhiệm vụ, quyền hạn.' Câu trả lời là 'True'.\n",
      "2023-10-23 13:12:08 - Question ID 7  - Dựa vào ngữ cảnh đã cho, tôi không thấy thông tin cụ thể về việc tốt nghiệp cao đẳng có thể tuyển chọn đào tạo sĩ quan dự bị hay không. Do đó, câu trả lời là 'False'.\n",
      "2023-10-23 13:12:37 - Question ID 8  - The passage provides specific information about the penalties for various violations related to the organization of festivals, including the act of burning fake gold paper money (đốt vàng mã) in the wrong place as one of the violations. It states that this violation can result in a warning or a fine ranging from 200,000 VND to 500,000 VND.\n",
      "So, the answer to the question \"Đốt vàng mã không đúng nơi quy định bị phạt bao nhiêu tiền?\" is 'True'.\n",
      "2023-10-23 13:12:49 - Question ID 9  - True\n",
      "2023-10-23 13:12:49 - Finish.\n"
     ]
    }
   ],
   "source": [
    "generated = generate_feeds(driver=driver,input_path=os.path.join(DATA_FOLDER, \"sample_generated.json\"))"
   ]
  },
  {
   "cell_type": "code",
   "execution_count": 14,
   "metadata": {},
   "outputs": [
    {
     "data": {
      "text/plain": [
       "{'question': 'Biển cấm đỗ xe theo giờ trong khu vực phải được sử dụng kiểu chữ như thế nào?  ',\n",
       " 'context': ' Tại Mục D.19 Phụ lục D QCVN 41:2019/BGTVT về báo hiệu đường bộ quy định: Biển hiệu lệnh có tác dụng trong khu vực Để báo cấm, hạn chế hay chỉ dẫn có hiệu lực cho tất cả các tuyến đường trong một khu vực (hiệu lực cho cả khu vực), đặt biển “Bắt đầu vào khu vực” (Ví dụ: biển số R.E,9a; R.E,9b; R.E,9c; R.E,9d; ...). Từ ZONE được biểu thị ở phía trên và chi tiết cấm, hạn chế hay chỉ dẫn được biểu thị ở bên dưới. Tùy theo chi tiết cấm, hạn chế hay chỉ dẫn mà bố trí biển tương ứng, ví dụ: - Để cấm đỗ xe trong khu vực, đặt biển R.E,9a “Cấm đỗ xe trong khu vực”; - Để cấm đỗ xe theo giờ trong khu vực, đặt biển R.E,9b “Cấm đỗ xe theo giờ trong khu vực”; - Để quy định khu vực đỗ xe, đặt biển R.E,9c “Khu vực đỗ xe”; - Để quy định hạn chế tốc độ tối đa trong khu vực, đặt biển R.E,9d “Hạn chế tốc độ tối đa trong khu vực”.  Theo quy định tại Mục D.20 Phụ lục D QCVN 41:2019/BGTVT quy định: Biển hết hiệu lực khu vực Để chỉ dẫn ra khỏi khu vực có báo cấm, hạn chế hay chỉ dẫn có hiệu lực trong một khu vực, đặt biển “Ra khỏi khu vực” tương ứng (Ví dụ: biển số R.E,10a; R.E,10b; R.E,10c; R.E,10d; ...). Tùy theo chi tiết cấm, hạn chế hay chỉ dẫn mà bố trí biển tương ứng, ví dụ: - Để báo hiệu hết cấm đỗ xe trong khu vực, đặt biển R.E,10a “Hết cấm đỗ xe trong khu vực”; - Để báo hiệu hết cấm đỗ xe theo giờ trong khu vực, đặt biển R.E,10b “Hết cấm đỗ xe theo giờ trong khu vực”; - Để quy định hết khu vực đỗ xe, đặt biển R.E,10c “Hết khu vực đỗ xe”; - Để quy định hết hạn chế tốc độ tối đa trong khu vực, đặt biển R.E,10d “Hết hạn chế tốc độ tối đa trong khu vực”.  Tại Điều 17 QCVN 41:2019/BGTVT về báo hiệu đường bộ quy định: Chữ viết, màu sắc và biểu tượng trên biển 17.1. Chữ viết trên biển phù hợp với quy định về kiểu chữ nêu tại Phụ lục K của Quy chuẩn này, trường hợp đặc biệt có thể điều chỉnh cho cân đối, phù hợp và đáp ứng thông tin rõ ràng, trong đó: 17.1.1. Sử dụng kiểu chữ tiêu chuẩn “gt1 - Kiểu chữ nén” và “gt2 - Kiểu chữ thường” để ghi thông tin bằng chữ trên biển. 17.1.2. Chữ viết hoa kiểu chữ thường hoặc kiểu chữ nén sử dụng để viết các thông tin chỉ dẫn về hướng đi, các danh từ riêng hoặc các thông tin có tính chất nhấn mạnh, gây chú ý cho người tham gia giao thông. Chỉ nên sử dụng kiểu chữ nén trong trường hợp phải hạn chế kích thước của biển. 17.1.3. Chữ viết thường được sử dụng để viết tên địa danh bằng tiếng Anh, các thông tin dịch vụ và trên các biển phụ. 17.1.4. Trên cùng một hàng chữ chỉ sử dụng một loại nét chữ. 17.1.5. Chữ viết trên biển phải là tiếng Việt đủ dấu. Khoảng cách giữa các chữ cái từ 25% - 40% chiều cao chữ, khoảng cách giữa các chữ bất kỳ trên cùng một hàng chữ từ 75% - 100% chiều cao chữ. Khoảng cách theo chiều đứng giữa các hàng chữ tối thiểu 50% - 75% chiều cao chữ lớn nhất của hàng sau. Khoảng cách giữa hàng chữ trên và dưới cùng với mép biển tối thiểu bằng 40% chiều cao chữ cao nhất trong hàng. Khoảng cách theo chiều ngang của các chữ ở góc trên cùng và dưới cùng đến mép biển tối thiểu bằng 60% chiều cao chữ với chữ viết hoa và 100% với chữ viết thường. 17.1.6. Khoảng cách giữa chữ ghi đơn vị đo lường (t, m, km) và chữ số phía trước lấy bằng 50% chiều cao chữ ghi đơn vị đo lường. 17.1.7. Chiều cao chữ được lựa chọn căn cứ trên tốc độ xe chạy sao cho người tham gia giao thông có thể đọc được rõ ràng cả ban ngày và ban đêm. Chiều cao chữ tối thiểu trên các biển chỉ dẫn là 100 mm với đường thông thường và đường đô thị; 150 mm với đường đôi ngoài đô thị và 300 mm đối với đường cao tốc. Chữ viết chỉ địa danh và hướng đường có chiều cao tối thiểu là 150 mm. Khuyến khích sử dụng kích thước chữ viết lớn nhưng phải đảm bảo tính cân đối và thẩm mỹ đối với biển báo. 17.1.8. Chữ viết phải lựa chọn câu, từ ngắn gọn, dễ hiểu nhất; thông tin trên biển phải thống nhất với các thông tin báo hiệu khác. 17.1.9. Chỉ sử dụng màu của chữ như sau: màu trắng trên nền đen, xanh hoặc đỏ; màu đen trên nền trắng hoặc vàng hoặc màu vàng trên các nền xanh. 17.1.10. Chữ viết trên biển chỉ dẫn trên đường cao tốc ngoài việc tuân thủ các quy định trong khoản 17.1 Điều 17 còn tuân thủ khoản 49.3 Điều 49 của Quy chuẩn này. ',\n",
       " 'answer': 'biển báo nói chung và biển cấm đỗ xe theo giờ trong khu vực nói riêng phải được sử dụng kiểu chữ tiêu chuẩn “gt1 - Kiểu chữ nén” và “gt2 - Kiểu chữ thường” để ghi thông tin bằng chữ trên biển. Chữ viết hoa kiểu chữ thường hoặc kiểu chữ nén sử dụng để viết các thông tin chỉ dẫn về hướng đi, các danh từ riêng hoặc các thông tin có tính chất nhấn mạnh, gây chú ý cho người tham gia giao thông. Chỉ nên sử dụng kiểu chữ nén trong trường hợp phải hạn chế kích thước của biển',\n",
       " 'reference': ['https://thuvienphapluat.vn/tcvn/Giao-thong/QCVN-41-2019-BGTVT-Bao-hieu-duong-bo-918577.aspx?anchor=dieu_17'],\n",
       " 'oke': \"Dựa trên ngữ cảnh cung cấp, thông tin cần để trả lời câu hỏi về kiểu chữ được sử dụng trên biển cấm đỗ xe theo giờ trong khu vực không nằm trong đoạn văn trích dẫn. Do đó, câu trả lời là 'False'.\"}"
      ]
     },
     "execution_count": 14,
     "metadata": {},
     "output_type": "execute_result"
    }
   ],
   "source": [
    "generated[7]"
   ]
  },
  {
   "cell_type": "code",
   "execution_count": 45,
   "metadata": {},
   "outputs": [
    {
     "data": {
      "text/plain": [
       "{'question': 'Tốt nghiệp cao đẳng có được tuyển chọn đào tạo sĩ quan dự bị không?',\n",
       " 'passage': 'Căn cứ Điều 4 Nghị định 78/2020/NĐ-CP quy định như sau: Đối tượng, tiêu chuẩn tuyển chọn đào tạo sĩ quan dự bị 1. Đối tượng tuyển chọn a) Quân nhân chuyên nghiệp, hạ sĩ quan chuẩn bị xuất ngũ; b) Hạ sĩ quan dự bị, cán bộ, công chức, viên chức và công dân tốt nghiệp đại học trở lên; c) Sinh viên khi tốt nghiệp đại học. 2. Tiêu chuẩn tuyển chọn a) Tiêu chuẩn chung Đối tượng quy định tại khoản 1 Điều này có lịch sử chính trị của gia đình và bản thân rõ ràng, là đảng viên Đảng Cộng sản Việt Nam hoặc có đủ tiêu chuẩn chính trị để bồi dưỡng phát triển thành đảng viên Đảng Cộng sản Việt Nam; có bản lĩnh chính trị vững vàng, phẩm chất đạo đức tốt, tuyệt đối trung thành với Đảng, với Tổ quốc và Nhân dân; có trình độ, kiến thức chuyên môn, học vấn, tuổi đời phù hợp với từng đối tượng; sức khỏe từ loại 01 đến loại 03 theo quy định tuyển chọn sức khỏe tuyển quân, tuyển sinh quân sự của Bộ trưởng Bộ Y tế và Bộ trưởng Bộ Quốc phòng. b) Tiêu chuẩn cụ thể Quân nhân chuyên nghiệp, hạ sĩ quan chuẩn bị xuất ngũ, hạ sĩ quan dự bị đã giữ chức phó trung đội trưởng hoặc cán bộ tiểu đội và tương đương; tốt nghiệp trung học phổ thông trở lên, nếu thiếu, tuyển chọn đến tốt nghiệp trung học cơ sở, với người dân tộc thiểu số tuyển chọn trình độ học vấn lớp 7 trở lên; tuổi đời đối với quân nhân chuyên nghiệp không quá 35, hạ sĩ quan chuẩn bị xuất ngũ và hạ sĩ quan dự bị không quá 30; Cán bộ, công chức, viên chức tuổi đời không quá 35; riêng đào tạo sĩ quan dự bị ngành y, dược, tuổi đời không quá 40; đào tạo sĩ quan dự bị chính trị phải là đảng viên Đảng Cộng sản Việt Nam; Công dân tốt nghiệp đại học trở lên, tuổi đời không quá 35; sinh viên khi tốt nghiệp đại học, tuổi đời không quá 30. ',\n",
       " 'answer': 'đối tượng tuyển chọn đào tạo sĩ quan dự bị bao gồm: - Quân nhân chuyên nghiệp, hạ sĩ quan chuẩn bị xuất ngũ; - Hạ sĩ quan dự bị, cán bộ, công chức, viên chức và công dân tốt nghiệp đại học trở lên; - Sinh viên khi tốt nghiệp đại học. , đối tượng tốt nghiệp cao đẳng không thuộc đối tượng tuyển chọn đào tạo sĩ quan dự bị',\n",
       " 'oke': 'False'}"
      ]
     },
     "execution_count": 45,
     "metadata": {},
     "output_type": "execute_result"
    }
   ],
   "source": [
    "generated[7]"
   ]
  },
  {
   "cell_type": "code",
   "execution_count": null,
   "metadata": {},
   "outputs": [],
   "source": []
  }
 ],
 "metadata": {
  "kernelspec": {
   "display_name": "Python 3",
   "language": "python",
   "name": "python3"
  },
  "language_info": {
   "codemirror_mode": {
    "name": "ipython",
    "version": 3
   },
   "file_extension": ".py",
   "mimetype": "text/x-python",
   "name": "python",
   "nbconvert_exporter": "python",
   "pygments_lexer": "ipython3",
   "version": "3.8.10"
  }
 },
 "nbformat": 4,
 "nbformat_minor": 2
}
